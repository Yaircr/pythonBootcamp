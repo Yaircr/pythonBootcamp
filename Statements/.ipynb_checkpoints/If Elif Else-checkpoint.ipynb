{
 "cells": [
  {
   "cell_type": "code",
   "execution_count": 6,
   "id": "0072aa8b",
   "metadata": {},
   "outputs": [
    {
     "name": "stdout",
     "output_type": "stream",
     "text": [
      "Not hungry\n"
     ]
    }
   ],
   "source": [
    "hungry = False\n",
    "\n",
    "if hungry:\n",
    "    print(\"Feed me!\")\n",
    "else:\n",
    "    print(\"Not hungry\")"
   ]
  },
  {
   "cell_type": "code",
   "execution_count": 9,
   "id": "8eb689a6",
   "metadata": {},
   "outputs": [
    {
     "name": "stdout",
     "output_type": "stream",
     "text": [
      "No phones in here\n"
     ]
    }
   ],
   "source": [
    "loc = \"Bank\"\n",
    "if loc== \"Auto Shop\":\n",
    "    print(\"Cars are cool\")\n",
    "elif loc == \"Bank\":\n",
    "    print(\"No phones in here\")\n",
    "else:\n",
    "    print(\"I dont know much\")"
   ]
  },
  {
   "cell_type": "code",
   "execution_count": 11,
   "id": "610287ed",
   "metadata": {},
   "outputs": [
    {
     "name": "stdout",
     "output_type": "stream",
     "text": [
      "Hello Sammy\n"
     ]
    }
   ],
   "source": [
    "name = \"Sammy\"\n",
    "\n",
    "if name== \"Frankie\":\n",
    "    print(\"Hello Frankie\")\n",
    "elif name==\"Sammy\":\n",
    "    print(\"Hello Sammy\")\n",
    "else:\n",
    "    print(\"Whats your name then?\")"
   ]
  },
  {
   "cell_type": "code",
   "execution_count": null,
   "id": "eb97c8f8",
   "metadata": {},
   "outputs": [],
   "source": []
  }
 ],
 "metadata": {
  "kernelspec": {
   "display_name": "Python 3 (ipykernel)",
   "language": "python",
   "name": "python3"
  },
  "language_info": {
   "codemirror_mode": {
    "name": "ipython",
    "version": 3
   },
   "file_extension": ".py",
   "mimetype": "text/x-python",
   "name": "python",
   "nbconvert_exporter": "python",
   "pygments_lexer": "ipython3",
   "version": "3.9.13"
  }
 },
 "nbformat": 4,
 "nbformat_minor": 5
}
